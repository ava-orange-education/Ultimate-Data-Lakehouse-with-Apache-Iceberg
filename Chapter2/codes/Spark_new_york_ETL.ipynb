{
 "cells": [
  {
   "cell_type": "markdown",
   "id": "f84459bb-e35a-4fc4-a0f0-0d12b12ae892",
   "metadata": {},
   "source": [
    "# 1. Create database 'data_db' in HMS"
   ]
  },
  {
   "cell_type": "code",
   "execution_count": 2,
   "id": "a9bf73e8-082c-40fa-b286-e20cd62dc737",
   "metadata": {},
   "outputs": [
    {
     "data": {
      "text/html": [
       "<table>\n",
       "    <thead>\n",
       "        <tr>\n",
       "        </tr>\n",
       "    </thead>\n",
       "    <tbody>\n",
       "    </tbody>\n",
       "</table>"
      ],
      "text/plain": [
       "++\n",
       "||\n",
       "++\n",
       "++"
      ]
     },
     "execution_count": 2,
     "metadata": {},
     "output_type": "execute_result"
    }
   ],
   "source": [
    "%%sql\n",
    "\n",
    "-- Check metastore status\n",
    "--show schemas from hms;\n",
    "--show tables from hms.data_db;\n",
    "--drop table hms.data_db.test;\n",
    "--drop schema hms.data_db;\n",
    "\n",
    "CREATE DATABASE if not exists data_db LOCATION 's3a://lakehouse/warehouse/data_db';"
   ]
  },
  {
   "cell_type": "code",
   "execution_count": 10,
   "id": "ea9bef82-dc6b-4c8e-883b-75f4709ad71a",
   "metadata": {},
   "outputs": [
    {
     "data": {
      "text/html": [
       "<table>\n",
       "    <thead>\n",
       "        <tr>\n",
       "            <th>namespace</th>\n",
       "            <th>tableName</th>\n",
       "            <th>isTemporary</th>\n",
       "        </tr>\n",
       "    </thead>\n",
       "    <tbody>\n",
       "        <tr>\n",
       "            <td>data_db</td>\n",
       "            <td>olympic_regions</td>\n",
       "            <td>False</td>\n",
       "        </tr>\n",
       "        <tr>\n",
       "            <td>data_db</td>\n",
       "            <td>sales_summary</td>\n",
       "            <td>False</td>\n",
       "        </tr>\n",
       "        <tr>\n",
       "            <td>data_db</td>\n",
       "            <td>trips</td>\n",
       "            <td>False</td>\n",
       "        </tr>\n",
       "        <tr>\n",
       "            <td>data_db</td>\n",
       "            <td>olympic_events</td>\n",
       "            <td>False</td>\n",
       "        </tr>\n",
       "    </tbody>\n",
       "</table>"
      ],
      "text/plain": [
       "+-----------+-----------------+-------------+\n",
       "| namespace |       tableName | isTemporary |\n",
       "+-----------+-----------------+-------------+\n",
       "|   data_db | olympic_regions |       False |\n",
       "|   data_db |   sales_summary |       False |\n",
       "|   data_db |           trips |       False |\n",
       "|   data_db |  olympic_events |       False |\n",
       "+-----------+-----------------+-------------+"
      ]
     },
     "execution_count": 10,
     "metadata": {},
     "output_type": "execute_result"
    }
   ],
   "source": [
    "%%sql\n",
    "\n",
    "show tables from hms.data_db;"
   ]
  },
  {
   "cell_type": "markdown",
   "id": "459939fd-079d-407e-8476-3d1dc22d98a2",
   "metadata": {},
   "source": [
    "# 2. Create and populate 'New york taxi' data model"
   ]
  },
  {
   "cell_type": "code",
   "execution_count": 1,
   "id": "96976c98-8a87-4275-a2d6-3e5ac09f008c",
   "metadata": {},
   "outputs": [],
   "source": [
    "NEW_YORK_TAXI=\"hms.data_db.new_york_taxi\""
   ]
  },
  {
   "cell_type": "code",
   "execution_count": 9,
   "id": "94b0d0d8-5e4f-487f-a3e5-7d5e3d4a4d6e",
   "metadata": {},
   "outputs": [
    {
     "data": {
      "text/html": [
       "<table>\n",
       "    <thead>\n",
       "        <tr>\n",
       "        </tr>\n",
       "    </thead>\n",
       "    <tbody>\n",
       "    </tbody>\n",
       "</table>"
      ],
      "text/plain": [
       "++\n",
       "||\n",
       "++\n",
       "++"
      ]
     },
     "execution_count": 9,
     "metadata": {},
     "output_type": "execute_result"
    }
   ],
   "source": [
    "%%sql\n",
    "\n",
    "drop table if exists hms.data_db.new_york_taxi purge;"
   ]
  },
  {
   "cell_type": "code",
   "execution_count": 11,
   "id": "f137941e-56d3-4c0a-9691-4308b5b6256b",
   "metadata": {},
   "outputs": [
    {
     "data": {
      "text/html": [
       "<table>\n",
       "    <thead>\n",
       "        <tr>\n",
       "        </tr>\n",
       "    </thead>\n",
       "    <tbody>\n",
       "    </tbody>\n",
       "</table>"
      ],
      "text/plain": [
       "++\n",
       "||\n",
       "++\n",
       "++"
      ]
     },
     "execution_count": 11,
     "metadata": {},
     "output_type": "execute_result"
    }
   ],
   "source": [
    "%%sql\n",
    "CREATE TABLE hms.data_db.new_york_taxi (\n",
    "tpep_pickup_datetime timestamp,\n",
    "tpep_dropoff_datetime timestamp,\n",
    "passenger_count bigint,\n",
    "trip_distance decimal(10,2),\n",
    "PULocationID bigint,\n",
    "DOLocationID bigint,\n",
    "fare_amount float)\n",
    "partitioned by (days(tpep_pickup_datetime))\n",
    "TBLPROPERTIES \n",
    "(\n",
    "'format' = 'parquet',\n",
    "'format-version' = '2',\n",
    "'write.parquet.compression-codec' = 'zstd');\n"
   ]
  },
  {
   "cell_type": "code",
   "execution_count": 2,
   "id": "a5d4a557-2b22-4315-b759-78c1830608e3",
   "metadata": {},
   "outputs": [
    {
     "name": "stderr",
     "output_type": "stream",
     "text": [
      "24/11/20 12:15:42 WARN SparkSession: Using an existing Spark session; only runtime SQL configurations will take effect.\n"
     ]
    },
    {
     "data": {
      "text/html": [
       "<table>\n",
       "    <thead>\n",
       "        <tr>\n",
       "        </tr>\n",
       "    </thead>\n",
       "    <tbody>\n",
       "    </tbody>\n",
       "</table>"
      ],
      "text/plain": [
       "++\n",
       "||\n",
       "++\n",
       "++"
      ]
     },
     "execution_count": 2,
     "metadata": {},
     "output_type": "execute_result"
    }
   ],
   "source": [
    "%%sql\n",
    "\n",
    "\n",
    "\n",
    "ALTER TABLE hms.data_db.new_york_taxi WRITE ORDERED BY PULocationID, DOLocationID\n",
    "-- show create table hms.data_db.new_york_taxi;"
   ]
  },
  {
   "cell_type": "code",
   "execution_count": 3,
   "id": "5ddd3400-6591-495e-85c9-7d8c955acaf2",
   "metadata": {},
   "outputs": [
    {
     "name": "stderr",
     "output_type": "stream",
     "text": [
      "                                                                                \r"
     ]
    },
    {
     "name": "stdout",
     "output_type": "stream",
     "text": [
      "+--------------------+---------------------+---------------+-------------+------------+------------+-----------+\n",
      "|tpep_pickup_datetime|tpep_dropoff_datetime|passenger_count|trip_distance|PULocationID|DOLocationID|fare_amount|\n",
      "+--------------------+---------------------+---------------+-------------+------------+------------+-----------+\n",
      "|    01-01-2019 00:46|     01-01-2019 00:53|              1|          1.5|         151|         239|          7|\n",
      "|    01-01-2019 00:59|     01-01-2019 01:18|              1|          2.6|         239|         246|         14|\n",
      "+--------------------+---------------------+---------------+-------------+------------+------------+-----------+\n",
      "only showing top 2 rows\n",
      "\n"
     ]
    }
   ],
   "source": [
    "taxi_df = spark.read.option(\"header\", True).csv(\"/home/iceberg/datasets/new_york_taxi/yellow_tripdata_2019-01.csv\")\n",
    "taxi_df.show(2)"
   ]
  },
  {
   "cell_type": "code",
   "execution_count": 4,
   "id": "765dcf60-c4a3-48f8-a6cf-f5f8b1d07a2e",
   "metadata": {},
   "outputs": [],
   "source": [
    "from pyspark.sql.functions import col, to_timestamp, round\n",
    "\n",
    "# Convert the datetime columns and passenger_count column to the appropriate data types\n",
    "taxi_df = (\n",
    "    taxi_df.withColumn(\"tpep_pickup_datetime\", to_timestamp(\"tpep_pickup_datetime\", \"dd-MM-yyyy HH:mm\"))\n",
    "      .withColumn(\"tpep_dropoff_datetime\", to_timestamp(\"tpep_dropoff_datetime\", \"dd-MM-yyyy HH:mm\"))\n",
    "      .withColumn(\"passenger_count\", col(\"passenger_count\").cast(\"BIGINT\"))\n",
    "      .withColumn(\"trip_distance\", round(col(\"trip_distance\"),2))\n",
    "      .withColumn(\"trip_distance\", col(\"trip_distance\").cast(\"decimal(10,2)\"))\n",
    "      .withColumn(\"PULocationID\", col(\"PULocationID\").cast(\"BIGINT\"))\n",
    "      .withColumn(\"DOLocationID\", col(\"DOLocationID\").cast(\"BIGINT\"))\n",
    "      .withColumn(\"fare_amount\", col(\"fare_amount\").cast(\"FLOAT\"))\n",
    ")"
   ]
  },
  {
   "cell_type": "code",
   "execution_count": 5,
   "id": "18bd98fc-e4a6-47c3-85e9-1d0ad14db095",
   "metadata": {},
   "outputs": [],
   "source": [
    "#taxi_df.count()\n",
    "taxi_df.createOrReplaceTempView(\"temp_taxi\")\n",
    "\n",
    "# Execute the SQL INSERT INTO query\n",
    "#spark.sql(\"INSERT INTO hms.data_db.new_york_taxi SELECT * FROM temp_taxi\")"
   ]
  },
  {
   "cell_type": "code",
   "execution_count": 6,
   "id": "ac4565f4-c61d-40dc-9f6e-ea16c1949b27",
   "metadata": {},
   "outputs": [
    {
     "name": "stderr",
     "output_type": "stream",
     "text": [
      "                                                                                \r"
     ]
    },
    {
     "data": {
      "text/plain": [
       "DataFrame[]"
      ]
     },
     "execution_count": 6,
     "metadata": {},
     "output_type": "execute_result"
    }
   ],
   "source": [
    "spark.sql(\"INSERT INTO hms.data_db.new_york_taxi SELECT * FROM temp_taxi\")"
   ]
  },
  {
   "cell_type": "code",
   "execution_count": 7,
   "id": "93775bd1-b03d-4f08-a71c-077a494d13fd",
   "metadata": {},
   "outputs": [
    {
     "name": "stdout",
     "output_type": "stream",
     "text": [
      "+--------------------+---------------------+---------------+-------------+------------+------------+-----------+\n",
      "|tpep_pickup_datetime|tpep_dropoff_datetime|passenger_count|trip_distance|PULocationID|DOLocationID|fare_amount|\n",
      "+--------------------+---------------------+---------------+-------------+------------+------------+-----------+\n",
      "| 2003-01-01 00:05:00|  2003-01-01 00:05:00|              1|         0.00|         264|         193|        0.0|\n",
      "| 2003-01-01 00:15:00|  2003-01-01 00:15:00|              6|         0.00|         264|         193|        0.0|\n",
      "| 2008-12-31 23:22:00|  2009-01-01 00:06:00|              1|        20.67|         132|         239|       52.0|\n",
      "| 2008-12-31 23:22:00|  2008-12-31 23:34:00|              6|         1.43|         140|         162|        7.5|\n",
      "| 2008-12-31 23:41:00|  2009-01-01 00:12:00|              6|         4.64|         233|         141|       22.5|\n",
      "+--------------------+---------------------+---------------+-------------+------------+------------+-----------+\n",
      "only showing top 5 rows\n",
      "\n"
     ]
    },
    {
     "name": "stderr",
     "output_type": "stream",
     "text": [
      "                                                                                \r"
     ]
    }
   ],
   "source": [
    "# taxi_df.writeTo(NEW_YORK_TAXI).create()\n",
    "spark.read.table(NEW_YORK_TAXI).show(5)"
   ]
  },
  {
   "cell_type": "code",
   "execution_count": 8,
   "id": "2aaf7ee4-f065-4f9a-885f-f45d50d8dd4d",
   "metadata": {},
   "outputs": [
    {
     "data": {
      "text/html": [
       "<table>\n",
       "    <thead>\n",
       "        <tr>\n",
       "            <th>tpep_pickup_datetime</th>\n",
       "            <th>tpep_dropoff_datetime</th>\n",
       "            <th>passenger_count</th>\n",
       "            <th>trip_distance</th>\n",
       "            <th>PULocationID</th>\n",
       "            <th>DOLocationID</th>\n",
       "            <th>fare_amount</th>\n",
       "        </tr>\n",
       "    </thead>\n",
       "    <tbody>\n",
       "        <tr>\n",
       "            <td>2003-01-01 00:05:00</td>\n",
       "            <td>2003-01-01 00:05:00</td>\n",
       "            <td>1</td>\n",
       "            <td>0.00</td>\n",
       "            <td>264</td>\n",
       "            <td>193</td>\n",
       "            <td>0.0</td>\n",
       "        </tr>\n",
       "        <tr>\n",
       "            <td>2003-01-01 00:15:00</td>\n",
       "            <td>2003-01-01 00:15:00</td>\n",
       "            <td>6</td>\n",
       "            <td>0.00</td>\n",
       "            <td>264</td>\n",
       "            <td>193</td>\n",
       "            <td>0.0</td>\n",
       "        </tr>\n",
       "        <tr>\n",
       "            <td>2008-12-31 23:22:00</td>\n",
       "            <td>2009-01-01 00:06:00</td>\n",
       "            <td>1</td>\n",
       "            <td>20.67</td>\n",
       "            <td>132</td>\n",
       "            <td>239</td>\n",
       "            <td>52.0</td>\n",
       "        </tr>\n",
       "        <tr>\n",
       "            <td>2008-12-31 23:22:00</td>\n",
       "            <td>2008-12-31 23:34:00</td>\n",
       "            <td>6</td>\n",
       "            <td>1.43</td>\n",
       "            <td>140</td>\n",
       "            <td>162</td>\n",
       "            <td>7.5</td>\n",
       "        </tr>\n",
       "        <tr>\n",
       "            <td>2008-12-31 23:41:00</td>\n",
       "            <td>2009-01-01 00:12:00</td>\n",
       "            <td>6</td>\n",
       "            <td>4.64</td>\n",
       "            <td>233</td>\n",
       "            <td>141</td>\n",
       "            <td>22.5</td>\n",
       "        </tr>\n",
       "    </tbody>\n",
       "</table>"
      ],
      "text/plain": [
       "+----------------------+-----------------------+-----------------+---------------+--------------+--------------+-------------+\n",
       "| tpep_pickup_datetime | tpep_dropoff_datetime | passenger_count | trip_distance | PULocationID | DOLocationID | fare_amount |\n",
       "+----------------------+-----------------------+-----------------+---------------+--------------+--------------+-------------+\n",
       "|  2003-01-01 00:05:00 |   2003-01-01 00:05:00 |               1 |          0.00 |          264 |          193 |         0.0 |\n",
       "|  2003-01-01 00:15:00 |   2003-01-01 00:15:00 |               6 |          0.00 |          264 |          193 |         0.0 |\n",
       "|  2008-12-31 23:22:00 |   2009-01-01 00:06:00 |               1 |         20.67 |          132 |          239 |        52.0 |\n",
       "|  2008-12-31 23:22:00 |   2008-12-31 23:34:00 |               6 |          1.43 |          140 |          162 |         7.5 |\n",
       "|  2008-12-31 23:41:00 |   2009-01-01 00:12:00 |               6 |          4.64 |          233 |          141 |        22.5 |\n",
       "+----------------------+-----------------------+-----------------+---------------+--------------+--------------+-------------+"
      ]
     },
     "execution_count": 8,
     "metadata": {},
     "output_type": "execute_result"
    }
   ],
   "source": [
    "%%sql\n",
    "\n",
    "-- SELECT count(1) from hms.data_db.new_york_taxi;\n",
    "\n",
    "select * from hms.data_db.new_york_taxi limit 5;"
   ]
  },
  {
   "cell_type": "code",
   "execution_count": 9,
   "id": "b9717674-d176-42e9-abce-1ad497ba4751",
   "metadata": {},
   "outputs": [
    {
     "data": {
      "text/html": [
       "<table>\n",
       "    <thead>\n",
       "        <tr>\n",
       "            <th>committed_at</th>\n",
       "            <th>snapshot_id</th>\n",
       "            <th>parent_id</th>\n",
       "            <th>operation</th>\n",
       "            <th>manifest_list</th>\n",
       "            <th>summary</th>\n",
       "        </tr>\n",
       "    </thead>\n",
       "    <tbody>\n",
       "        <tr>\n",
       "            <td>2024-11-20 12:16:20.695000</td>\n",
       "            <td>7915680060403489000</td>\n",
       "            <td>None</td>\n",
       "            <td>append</td>\n",
       "            <td>s3a://lakehouse/warehouse/data_db/new_york_taxi/metadata/snap-7915680060403489000-1-d6087afd-1f0b-4d26-9e7b-5efb3bdf4c84.avro</td>\n",
       "            <td>{&#x27;spark.app.id&#x27;: &#x27;local-1732103217067&#x27;, &#x27;changed-partition-count&#x27;: &#x27;15&#x27;, &#x27;added-data-files&#x27;: &#x27;16&#x27;, &#x27;total-equality-deletes&#x27;: &#x27;0&#x27;, &#x27;added-records&#x27;: &#x27;1048575&#x27;, &#x27;total-position-deletes&#x27;: &#x27;0&#x27;, &#x27;added-files-size&#x27;: &#x27;5901990&#x27;, &#x27;total-delete-files&#x27;: &#x27;0&#x27;, &#x27;total-files-size&#x27;: &#x27;5901990&#x27;, &#x27;total-records&#x27;: &#x27;1048575&#x27;, &#x27;total-data-files&#x27;: &#x27;16&#x27;}</td>\n",
       "        </tr>\n",
       "    </tbody>\n",
       "</table>"
      ],
      "text/plain": [
       "+----------------------------+---------------------+-----------+-----------+-------------------------------------------------------------------------------------------------------------------------------+---------------------------------------------------------------------------------------------------------------------------------------------------------------------------------------------------------------------------------------------------------------------------------------------------------------------------------------------+\n",
       "|               committed_at |         snapshot_id | parent_id | operation |                                                                                                                 manifest_list |                                                                                                                                                                                                                                                                                                                                     summary |\n",
       "+----------------------------+---------------------+-----------+-----------+-------------------------------------------------------------------------------------------------------------------------------+---------------------------------------------------------------------------------------------------------------------------------------------------------------------------------------------------------------------------------------------------------------------------------------------------------------------------------------------+\n",
       "| 2024-11-20 12:16:20.695000 | 7915680060403489000 |      None |    append | s3a://lakehouse/warehouse/data_db/new_york_taxi/metadata/snap-7915680060403489000-1-d6087afd-1f0b-4d26-9e7b-5efb3bdf4c84.avro | {'spark.app.id': 'local-1732103217067', 'changed-partition-count': '15', 'added-data-files': '16', 'total-equality-deletes': '0', 'added-records': '1048575', 'total-position-deletes': '0', 'added-files-size': '5901990', 'total-delete-files': '0', 'total-files-size': '5901990', 'total-records': '1048575', 'total-data-files': '16'} |\n",
       "+----------------------------+---------------------+-----------+-----------+-------------------------------------------------------------------------------------------------------------------------------+---------------------------------------------------------------------------------------------------------------------------------------------------------------------------------------------------------------------------------------------------------------------------------------------------------------------------------------------+"
      ]
     },
     "execution_count": 9,
     "metadata": {},
     "output_type": "execute_result"
    }
   ],
   "source": [
    "%%sql\n",
    "\n",
    "select * from hms.data_db.new_york_taxi.snapshots; "
   ]
  },
  {
   "cell_type": "code",
   "execution_count": 1,
   "id": "d97fa3fe-4b44-4813-9262-3f2b4b03f1a0",
   "metadata": {},
   "outputs": [
    {
     "name": "stderr",
     "output_type": "stream",
     "text": [
      "24/11/20 12:37:45 WARN SparkSession: Using an existing Spark session; only runtime SQL configurations will take effect.\n"
     ]
    },
    {
     "data": {
      "text/html": [
       "<table>\n",
       "    <thead>\n",
       "        <tr>\n",
       "            <th>content</th>\n",
       "            <th>path</th>\n",
       "            <th>length</th>\n",
       "            <th>partition_spec_id</th>\n",
       "            <th>added_snapshot_id</th>\n",
       "            <th>added_data_files_count</th>\n",
       "            <th>existing_data_files_count</th>\n",
       "            <th>deleted_data_files_count</th>\n",
       "            <th>added_delete_files_count</th>\n",
       "            <th>existing_delete_files_count</th>\n",
       "            <th>deleted_delete_files_count</th>\n",
       "            <th>partition_summaries</th>\n",
       "        </tr>\n",
       "    </thead>\n",
       "    <tbody>\n",
       "        <tr>\n",
       "            <td>0</td>\n",
       "            <td>s3a://lakehouse/warehouse/data_db/new_york_taxi/metadata/d6087afd-1f0b-4d26-9e7b-5efb3bdf4c84-m0.avro</td>\n",
       "            <td>8798</td>\n",
       "            <td>0</td>\n",
       "            <td>7915680060403489000</td>\n",
       "            <td>16</td>\n",
       "            <td>0</td>\n",
       "            <td>0</td>\n",
       "            <td>0</td>\n",
       "            <td>0</td>\n",
       "            <td>0</td>\n",
       "            <td>[Row(contains_null=False, contains_nan=False, lower_bound=&#x27;2003-01-01&#x27;, upper_bound=&#x27;2019-02-13&#x27;)]</td>\n",
       "        </tr>\n",
       "    </tbody>\n",
       "</table>"
      ],
      "text/plain": [
       "+---------+-------------------------------------------------------------------------------------------------------+--------+-------------------+---------------------+------------------------+---------------------------+--------------------------+--------------------------+-----------------------------+----------------------------+----------------------------------------------------------------------------------------------------+\n",
       "| content |                                                                                                  path | length | partition_spec_id |   added_snapshot_id | added_data_files_count | existing_data_files_count | deleted_data_files_count | added_delete_files_count | existing_delete_files_count | deleted_delete_files_count |                                                                                partition_summaries |\n",
       "+---------+-------------------------------------------------------------------------------------------------------+--------+-------------------+---------------------+------------------------+---------------------------+--------------------------+--------------------------+-----------------------------+----------------------------+----------------------------------------------------------------------------------------------------+\n",
       "|       0 | s3a://lakehouse/warehouse/data_db/new_york_taxi/metadata/d6087afd-1f0b-4d26-9e7b-5efb3bdf4c84-m0.avro |   8798 |                 0 | 7915680060403489000 |                     16 |                         0 |                        0 |                        0 |                           0 |                          0 | [Row(contains_null=False, contains_nan=False, lower_bound='2003-01-01', upper_bound='2019-02-13')] |\n",
       "+---------+-------------------------------------------------------------------------------------------------------+--------+-------------------+---------------------+------------------------+---------------------------+--------------------------+--------------------------+-----------------------------+----------------------------+----------------------------------------------------------------------------------------------------+"
      ]
     },
     "execution_count": 1,
     "metadata": {},
     "output_type": "execute_result"
    }
   ],
   "source": [
    "%%sql\n",
    "\n",
    "select * from hms.data_db.new_york_taxi.manifests; "
   ]
  },
  {
   "cell_type": "code",
   "execution_count": 1,
   "id": "505ffd1a-4ee9-4bf7-aef6-18c49535069c",
   "metadata": {},
   "outputs": [
    {
     "name": "stderr",
     "output_type": "stream",
     "text": [
      "24/11/20 18:45:34 WARN SparkSession: Using an existing Spark session; only runtime SQL configurations will take effect.\n"
     ]
    },
    {
     "data": {
      "text/html": [
       "<table>\n",
       "    <thead>\n",
       "        <tr>\n",
       "            <th>committed_at</th>\n",
       "            <th>snapshot_id</th>\n",
       "            <th>parent_id</th>\n",
       "            <th>operation</th>\n",
       "            <th>manifest_list</th>\n",
       "            <th>summary</th>\n",
       "        </tr>\n",
       "    </thead>\n",
       "    <tbody>\n",
       "        <tr>\n",
       "            <td>2024-11-20 12:16:20.695000</td>\n",
       "            <td>7915680060403489000</td>\n",
       "            <td>None</td>\n",
       "            <td>append</td>\n",
       "            <td>s3a://lakehouse/warehouse/data_db/new_york_taxi/metadata/snap-7915680060403489000-1-d6087afd-1f0b-4d26-9e7b-5efb3bdf4c84.avro</td>\n",
       "            <td>{&#x27;spark.app.id&#x27;: &#x27;local-1732103217067&#x27;, &#x27;changed-partition-count&#x27;: &#x27;15&#x27;, &#x27;added-data-files&#x27;: &#x27;16&#x27;, &#x27;total-equality-deletes&#x27;: &#x27;0&#x27;, &#x27;added-records&#x27;: &#x27;1048575&#x27;, &#x27;total-position-deletes&#x27;: &#x27;0&#x27;, &#x27;added-files-size&#x27;: &#x27;5901990&#x27;, &#x27;total-delete-files&#x27;: &#x27;0&#x27;, &#x27;total-files-size&#x27;: &#x27;5901990&#x27;, &#x27;total-records&#x27;: &#x27;1048575&#x27;, &#x27;total-data-files&#x27;: &#x27;16&#x27;}</td>\n",
       "        </tr>\n",
       "    </tbody>\n",
       "</table>"
      ],
      "text/plain": [
       "+----------------------------+---------------------+-----------+-----------+-------------------------------------------------------------------------------------------------------------------------------+---------------------------------------------------------------------------------------------------------------------------------------------------------------------------------------------------------------------------------------------------------------------------------------------------------------------------------------------+\n",
       "|               committed_at |         snapshot_id | parent_id | operation |                                                                                                                 manifest_list |                                                                                                                                                                                                                                                                                                                                     summary |\n",
       "+----------------------------+---------------------+-----------+-----------+-------------------------------------------------------------------------------------------------------------------------------+---------------------------------------------------------------------------------------------------------------------------------------------------------------------------------------------------------------------------------------------------------------------------------------------------------------------------------------------+\n",
       "| 2024-11-20 12:16:20.695000 | 7915680060403489000 |      None |    append | s3a://lakehouse/warehouse/data_db/new_york_taxi/metadata/snap-7915680060403489000-1-d6087afd-1f0b-4d26-9e7b-5efb3bdf4c84.avro | {'spark.app.id': 'local-1732103217067', 'changed-partition-count': '15', 'added-data-files': '16', 'total-equality-deletes': '0', 'added-records': '1048575', 'total-position-deletes': '0', 'added-files-size': '5901990', 'total-delete-files': '0', 'total-files-size': '5901990', 'total-records': '1048575', 'total-data-files': '16'} |\n",
       "+----------------------------+---------------------+-----------+-----------+-------------------------------------------------------------------------------------------------------------------------------+---------------------------------------------------------------------------------------------------------------------------------------------------------------------------------------------------------------------------------------------------------------------------------------------------------------------------------------------+"
      ]
     },
     "execution_count": 1,
     "metadata": {},
     "output_type": "execute_result"
    }
   ],
   "source": [
    "%%sql\n",
    "\n",
    "select * from hms.data_db.new_york_taxi.snapshots; "
   ]
  }
 ],
 "metadata": {
  "kernelspec": {
   "display_name": "Python 3 (ipykernel)",
   "language": "python",
   "name": "python3"
  },
  "language_info": {
   "codemirror_mode": {
    "name": "ipython",
    "version": 3
   },
   "file_extension": ".py",
   "mimetype": "text/x-python",
   "name": "python",
   "nbconvert_exporter": "python",
   "pygments_lexer": "ipython3",
   "version": "3.9.18"
  }
 },
 "nbformat": 4,
 "nbformat_minor": 5
}
