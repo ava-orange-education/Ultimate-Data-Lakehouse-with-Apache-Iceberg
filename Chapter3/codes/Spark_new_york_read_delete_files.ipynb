{
 "cells": [
  {
   "cell_type": "markdown",
   "id": "59591c91-9f9b-4e60-8406-05b14ac85fbf",
   "metadata": {},
   "source": [
    "# Example to understand the delete files and how they are used"
   ]
  },
  {
   "cell_type": "markdown",
   "id": "afb6c851-92ad-4d74-b11c-f18385f8d360",
   "metadata": {},
   "source": [
    "# 1. Perform delete operation to generate delete files"
   ]
  },
  {
   "cell_type": "markdown",
   "id": "f2b5bed2",
   "metadata": {},
   "source": [
    "### First we have to change dlete operation from CoW to MoR for the table on which delete opewration will be performed to ensure that delete files are written otherwise with CoW file will be rewritten without delete files."
   ]
  },
  {
   "cell_type": "code",
   "execution_count": 5,
   "id": "547badb0",
   "metadata": {
    "vscode": {
     "languageId": "sql"
    }
   },
   "outputs": [
    {
     "data": {
      "text/html": [
       "<table>\n",
       "    <thead>\n",
       "        <tr>\n",
       "            <th>createtab_stmt</th>\n",
       "        </tr>\n",
       "    </thead>\n",
       "    <tbody>\n",
       "        <tr>\n",
       "            <td>CREATE TABLE hms.data_db.new_york_taxi (<br>  tpep_pickup_datetime TIMESTAMP,<br>  tpep_dropoff_datetime TIMESTAMP,<br>  passenger_count BIGINT,<br>  trip_distance DECIMAL(10,2),<br>  PULocationID BIGINT,<br>  DOLocationID BIGINT,<br>  fare_amount FLOAT)<br>USING iceberg<br>PARTITIONED BY (days(tpep_pickup_datetime))<br>LOCATION &#x27;s3a://lakehouse/warehouse/data_db/new_york_taxi&#x27;<br>TBLPROPERTIES (<br>  &#x27;current-snapshot-id&#x27; = &#x27;3733467730074381361&#x27;,<br>  &#x27;format&#x27; = &#x27;iceberg/parquet&#x27;,<br>  &#x27;format-version&#x27; = &#x27;2&#x27;,<br>  &#x27;sort-order&#x27; = &#x27;PULocationID ASC NULLS FIRST, DOLocationID ASC NULLS FIRST&#x27;,<br>  &#x27;write.delete.mode&#x27; = &#x27;merge-on-read&#x27;,<br>  &#x27;write.distribution-mode&#x27; = &#x27;range&#x27;,<br>  &#x27;write.parquet.compression-codec&#x27; = &#x27;zstd&#x27;)<br></td>\n",
       "        </tr>\n",
       "    </tbody>\n",
       "</table>"
      ],
      "text/plain": [
       "+--------------------------------------------------------------------------------+\n",
       "|                                                                 createtab_stmt |\n",
       "+--------------------------------------------------------------------------------+\n",
       "|                                       CREATE TABLE hms.data_db.new_york_taxi ( |\n",
       "|                                                tpep_pickup_datetime TIMESTAMP, |\n",
       "|                                               tpep_dropoff_datetime TIMESTAMP, |\n",
       "|                                                        passenger_count BIGINT, |\n",
       "|                                                   trip_distance DECIMAL(10,2), |\n",
       "|                                                           PULocationID BIGINT, |\n",
       "|                                                           DOLocationID BIGINT, |\n",
       "|                                                             fare_amount FLOAT) |\n",
       "|                                                                  USING iceberg |\n",
       "|                                    PARTITIONED BY (days(tpep_pickup_datetime)) |\n",
       "|                     LOCATION 's3a://lakehouse/warehouse/data_db/new_york_taxi' |\n",
       "|                                                                TBLPROPERTIES ( |\n",
       "|                                 'current-snapshot-id' = '3733467730074381361', |\n",
       "|                                                  'format' = 'iceberg/parquet', |\n",
       "|                                                        'format-version' = '2', |\n",
       "|   'sort-order' = 'PULocationID ASC NULLS FIRST, DOLocationID ASC NULLS FIRST', |\n",
       "|                                         'write.delete.mode' = 'merge-on-read', |\n",
       "|                                           'write.distribution-mode' = 'range', |\n",
       "|                                    'write.parquet.compression-codec' = 'zstd') |\n",
       "|                                                                                |\n",
       "+--------------------------------------------------------------------------------+"
      ]
     },
     "execution_count": 5,
     "metadata": {},
     "output_type": "execute_result"
    }
   ],
   "source": [
    "%%sql\n",
    "\n",
    "show create table hms.data_db.new_york_taxi;"
   ]
  },
  {
   "cell_type": "code",
   "execution_count": 4,
   "id": "c9d99603-a0fd-4d06-9e5b-15a049f87ee7",
   "metadata": {},
   "outputs": [
    {
     "data": {
      "text/html": [
       "<table>\n",
       "    <thead>\n",
       "        <tr>\n",
       "        </tr>\n",
       "    </thead>\n",
       "    <tbody>\n",
       "    </tbody>\n",
       "</table>"
      ],
      "text/plain": [
       "++\n",
       "||\n",
       "++\n",
       "++"
      ]
     },
     "execution_count": 4,
     "metadata": {},
     "output_type": "execute_result"
    }
   ],
   "source": [
    "%%sql\n",
    "\n",
    "ALTER TABLE hms.data_db.new_york_taxi SET TBLPROPERTIES (\n",
    "    'write.delete.mode'='merge-on-read'\n",
    ");"
   ]
  },
  {
   "cell_type": "markdown",
   "id": "d188d273-10ce-4aed-9cea-81faa5ec2790",
   "metadata": {},
   "source": [
    "### Confirm if the write mode has been changed or not"
   ]
  },
  {
   "cell_type": "code",
   "execution_count": 6,
   "id": "608b2bef-4d22-47d2-a7a6-b41dafcf5cbc",
   "metadata": {},
   "outputs": [
    {
     "data": {
      "text/html": [
       "<table>\n",
       "    <thead>\n",
       "        <tr>\n",
       "            <th>createtab_stmt</th>\n",
       "        </tr>\n",
       "    </thead>\n",
       "    <tbody>\n",
       "        <tr>\n",
       "            <td>CREATE TABLE hms.data_db.new_york_taxi (<br>  tpep_pickup_datetime TIMESTAMP,<br>  tpep_dropoff_datetime TIMESTAMP,<br>  passenger_count BIGINT,<br>  trip_distance DECIMAL(10,2),<br>  PULocationID BIGINT,<br>  DOLocationID BIGINT,<br>  fare_amount FLOAT)<br>USING iceberg<br>PARTITIONED BY (days(tpep_pickup_datetime))<br>LOCATION &#x27;s3a://lakehouse/warehouse/data_db/new_york_taxi&#x27;<br>TBLPROPERTIES (<br>  &#x27;current-snapshot-id&#x27; = &#x27;3733467730074381361&#x27;,<br>  &#x27;format&#x27; = &#x27;iceberg/parquet&#x27;,<br>  &#x27;format-version&#x27; = &#x27;2&#x27;,<br>  &#x27;sort-order&#x27; = &#x27;PULocationID ASC NULLS FIRST, DOLocationID ASC NULLS FIRST&#x27;,<br>  &#x27;write.delete.mode&#x27; = &#x27;merge-on-read&#x27;,<br>  &#x27;write.distribution-mode&#x27; = &#x27;range&#x27;,<br>  &#x27;write.parquet.compression-codec&#x27; = &#x27;zstd&#x27;)<br></td>\n",
       "        </tr>\n",
       "    </tbody>\n",
       "</table>"
      ],
      "text/plain": [
       "+--------------------------------------------------------------------------------+\n",
       "|                                                                 createtab_stmt |\n",
       "+--------------------------------------------------------------------------------+\n",
       "|                                       CREATE TABLE hms.data_db.new_york_taxi ( |\n",
       "|                                                tpep_pickup_datetime TIMESTAMP, |\n",
       "|                                               tpep_dropoff_datetime TIMESTAMP, |\n",
       "|                                                        passenger_count BIGINT, |\n",
       "|                                                   trip_distance DECIMAL(10,2), |\n",
       "|                                                           PULocationID BIGINT, |\n",
       "|                                                           DOLocationID BIGINT, |\n",
       "|                                                             fare_amount FLOAT) |\n",
       "|                                                                  USING iceberg |\n",
       "|                                    PARTITIONED BY (days(tpep_pickup_datetime)) |\n",
       "|                     LOCATION 's3a://lakehouse/warehouse/data_db/new_york_taxi' |\n",
       "|                                                                TBLPROPERTIES ( |\n",
       "|                                 'current-snapshot-id' = '3733467730074381361', |\n",
       "|                                                  'format' = 'iceberg/parquet', |\n",
       "|                                                        'format-version' = '2', |\n",
       "|   'sort-order' = 'PULocationID ASC NULLS FIRST, DOLocationID ASC NULLS FIRST', |\n",
       "|                                         'write.delete.mode' = 'merge-on-read', |\n",
       "|                                           'write.distribution-mode' = 'range', |\n",
       "|                                    'write.parquet.compression-codec' = 'zstd') |\n",
       "|                                                                                |\n",
       "+--------------------------------------------------------------------------------+"
      ]
     },
     "execution_count": 6,
     "metadata": {},
     "output_type": "execute_result"
    }
   ],
   "source": [
    "%%sql\n",
    "\n",
    "show create table hms.data_db.new_york_taxi;"
   ]
  },
  {
   "cell_type": "code",
   "execution_count": 12,
   "id": "0d6cad44",
   "metadata": {
    "vscode": {
     "languageId": "sql"
    }
   },
   "outputs": [
    {
     "data": {
      "text/html": [
       "<table>\n",
       "    <thead>\n",
       "        <tr>\n",
       "            <th>count(1)</th>\n",
       "        </tr>\n",
       "    </thead>\n",
       "    <tbody>\n",
       "        <tr>\n",
       "            <td>508</td>\n",
       "        </tr>\n",
       "    </tbody>\n",
       "</table>"
      ],
      "text/plain": [
       "+----------+\n",
       "| count(1) |\n",
       "+----------+\n",
       "|      508 |\n",
       "+----------+"
      ]
     },
     "execution_count": 12,
     "metadata": {},
     "output_type": "execute_result"
    }
   ],
   "source": [
    "%%sql\n",
    "\n",
    "-- Your SQL query here\n",
    "--SELECT count(1) FROM hms.data_db.new_york_taxi WHERE DOLocationID = 234 LIMIT 10;\n",
    "SELECT count(1) FROM hms.data_db.new_york_taxi WHERE DOLocationID = 234 and PULocationID = 231 LIMIT 10;"
   ]
  },
  {
   "cell_type": "code",
   "execution_count": 3,
   "id": "d9898f22-a8d9-4c34-be1d-32ee380448df",
   "metadata": {},
   "outputs": [
    {
     "data": {
      "text/html": [
       "<table>\n",
       "    <thead>\n",
       "        <tr>\n",
       "            <th>timestamp</th>\n",
       "            <th>file</th>\n",
       "            <th>latest_snapshot_id</th>\n",
       "            <th>latest_schema_id</th>\n",
       "            <th>latest_sequence_number</th>\n",
       "        </tr>\n",
       "    </thead>\n",
       "    <tbody>\n",
       "        <tr>\n",
       "            <td>2025-03-09 11:12:20.537000</td>\n",
       "            <td>s3a://lakehouse/warehouse/data_db/new_york_taxi/metadata/00005-5710b475-60e8-4c47-ba13-24608460b4ea.metadata.json</td>\n",
       "            <td>3733467730074381361</td>\n",
       "            <td>0</td>\n",
       "            <td>3</td>\n",
       "        </tr>\n",
       "        <tr>\n",
       "            <td>2024-11-24 08:17:59.515000</td>\n",
       "            <td>s3a://lakehouse/warehouse/data_db/new_york_taxi/metadata/00004-ef478216-63af-4e54-b497-342a08322aae.metadata.json</td>\n",
       "            <td>3733467730074381361</td>\n",
       "            <td>0</td>\n",
       "            <td>3</td>\n",
       "        </tr>\n",
       "        <tr>\n",
       "            <td>2024-11-22 05:11:42.701000</td>\n",
       "            <td>s3a://lakehouse/warehouse/data_db/new_york_taxi/metadata/00003-e6da6690-093f-4026-9443-77cc4738d38e.metadata.json</td>\n",
       "            <td>6118885366905035378</td>\n",
       "            <td>0</td>\n",
       "            <td>2</td>\n",
       "        </tr>\n",
       "        <tr>\n",
       "            <td>2024-11-20 12:16:20.695000</td>\n",
       "            <td>s3a://lakehouse/warehouse/data_db/new_york_taxi/metadata/00002-4aee5dc1-fdc6-413f-9363-b407e9ac41a7.metadata.json</td>\n",
       "            <td>7915680060403489000</td>\n",
       "            <td>0</td>\n",
       "            <td>1</td>\n",
       "        </tr>\n",
       "        <tr>\n",
       "            <td>2024-11-20 12:15:47.503000</td>\n",
       "            <td>s3a://lakehouse/warehouse/data_db/new_york_taxi/metadata/00001-f26e1a62-3c31-4a77-82ef-bacf6ab54050.metadata.json</td>\n",
       "            <td>None</td>\n",
       "            <td>None</td>\n",
       "            <td>None</td>\n",
       "        </tr>\n",
       "    </tbody>\n",
       "</table>"
      ],
      "text/plain": [
       "+----------------------------+-------------------------------------------------------------------------------------------------------------------+---------------------+------------------+------------------------+\n",
       "|                  timestamp |                                                                                                              file |  latest_snapshot_id | latest_schema_id | latest_sequence_number |\n",
       "+----------------------------+-------------------------------------------------------------------------------------------------------------------+---------------------+------------------+------------------------+\n",
       "| 2025-03-09 11:12:20.537000 | s3a://lakehouse/warehouse/data_db/new_york_taxi/metadata/00005-5710b475-60e8-4c47-ba13-24608460b4ea.metadata.json | 3733467730074381361 |                0 |                      3 |\n",
       "| 2024-11-24 08:17:59.515000 | s3a://lakehouse/warehouse/data_db/new_york_taxi/metadata/00004-ef478216-63af-4e54-b497-342a08322aae.metadata.json | 3733467730074381361 |                0 |                      3 |\n",
       "| 2024-11-22 05:11:42.701000 | s3a://lakehouse/warehouse/data_db/new_york_taxi/metadata/00003-e6da6690-093f-4026-9443-77cc4738d38e.metadata.json | 6118885366905035378 |                0 |                      2 |\n",
       "| 2024-11-20 12:16:20.695000 | s3a://lakehouse/warehouse/data_db/new_york_taxi/metadata/00002-4aee5dc1-fdc6-413f-9363-b407e9ac41a7.metadata.json | 7915680060403489000 |                0 |                      1 |\n",
       "| 2024-11-20 12:15:47.503000 | s3a://lakehouse/warehouse/data_db/new_york_taxi/metadata/00001-f26e1a62-3c31-4a77-82ef-bacf6ab54050.metadata.json |                None |             None |                   None |\n",
       "+----------------------------+-------------------------------------------------------------------------------------------------------------------+---------------------+------------------+------------------------+"
      ]
     },
     "execution_count": 3,
     "metadata": {},
     "output_type": "execute_result"
    }
   ],
   "source": [
    "%%sql\n",
    "\n",
    "select * from hms.data_db.new_york_taxi.metadata_log_entries order by timestamp desc limit 5; "
   ]
  },
  {
   "cell_type": "code",
   "execution_count": 4,
   "id": "3c22d536-ad71-4909-aefe-a821c4a1f808",
   "metadata": {},
   "outputs": [
    {
     "name": "stderr",
     "output_type": "stream",
     "text": [
      "25/03/10 05:36:02 WARN S3InputStream: An error occurred while aborting the stream\n",
      "software.amazon.awssdk.core.exception.AbortedException\n",
      "\tat software.amazon.awssdk.core.exception.AbortedException$BuilderImpl.build(AbortedException.java:93)\n",
      "\tat software.amazon.awssdk.core.io.SdkFilterInputStream.abortIfNeeded(SdkFilterInputStream.java:45)\n",
      "\tat software.amazon.awssdk.core.io.SdkFilterInputStream.read(SdkFilterInputStream.java:59)\n",
      "\tat org.apache.iceberg.aws.s3.S3InputStream.abortStream(S3InputStream.java:218)\n",
      "\tat org.apache.iceberg.aws.s3.S3InputStream.closeStream(S3InputStream.java:202)\n",
      "\tat org.apache.iceberg.aws.s3.S3InputStream.close(S3InputStream.java:149)\n",
      "\tat org.apache.iceberg.avro.AvroIO$AvroInputStreamAdapter.close(AvroIO.java:82)\n",
      "\tat org.apache.iceberg.shaded.org.apache.avro.file.DataFileReader$SeekableInputStream.close(DataFileReader.java:325)\n",
      "\tat org.apache.iceberg.shaded.org.apache.avro.io.BinaryDecoder$InputStreamByteSource.close(BinaryDecoder.java:900)\n",
      "\tat org.apache.iceberg.shaded.org.apache.avro.file.DataFileStream.close(DataFileStream.java:344)\n",
      "\tat org.apache.iceberg.io.CloseableGroup.close(CloseableGroup.java:80)\n",
      "\tat org.apache.iceberg.io.CloseableIterable$7.close(CloseableIterable.java:182)\n",
      "\tat org.apache.iceberg.io.CloseableIterable$2.close(CloseableIterable.java:67)\n",
      "\tat org.apache.iceberg.io.CloseableIterable$2.close(CloseableIterable.java:67)\n",
      "\tat org.apache.iceberg.io.CloseableIterable$2.close(CloseableIterable.java:67)\n",
      "\tat org.apache.iceberg.io.CloseableIterable$7.close(CloseableIterable.java:182)\n",
      "\tat org.apache.iceberg.ManifestGroup$1.close(ManifestGroup.java:362)\n",
      "\tat org.apache.iceberg.util.ParallelIterable$ParallelIterator.lambda$new$1(ParallelIterable.java:72)\n",
      "\tat java.base/java.util.concurrent.Executors$RunnableAdapter.call(Executors.java:515)\n",
      "\tat java.base/java.util.concurrent.FutureTask.run(FutureTask.java:264)\n",
      "\tat java.base/java.util.concurrent.ThreadPoolExecutor.runWorker(ThreadPoolExecutor.java:1128)\n",
      "\tat java.base/java.util.concurrent.ThreadPoolExecutor$Worker.run(ThreadPoolExecutor.java:628)\n",
      "\tat java.base/java.lang.Thread.run(Thread.java:829)\n",
      "                                                                                \r"
     ]
    },
    {
     "data": {
      "text/html": [
       "<table>\n",
       "    <thead>\n",
       "        <tr>\n",
       "        </tr>\n",
       "    </thead>\n",
       "    <tbody>\n",
       "    </tbody>\n",
       "</table>"
      ],
      "text/plain": [
       "++\n",
       "||\n",
       "++\n",
       "++"
      ]
     },
     "execution_count": 4,
     "metadata": {},
     "output_type": "execute_result"
    }
   ],
   "source": [
    "%%sql\n",
    "\n",
    "delete from hms.data_db.new_york_taxi WHERE DOLocationID = 234 and PULocationID = 231;"
   ]
  },
  {
   "cell_type": "code",
   "execution_count": 5,
   "id": "8b156f68-2ada-4888-b139-d3f310947391",
   "metadata": {},
   "outputs": [
    {
     "name": "stderr",
     "output_type": "stream",
     "text": [
      "                                                                                \r"
     ]
    },
    {
     "data": {
      "text/html": [
       "<table>\n",
       "    <thead>\n",
       "        <tr>\n",
       "            <th>count(1)</th>\n",
       "        </tr>\n",
       "    </thead>\n",
       "    <tbody>\n",
       "        <tr>\n",
       "            <td>0</td>\n",
       "        </tr>\n",
       "    </tbody>\n",
       "</table>"
      ],
      "text/plain": [
       "+----------+\n",
       "| count(1) |\n",
       "+----------+\n",
       "|        0 |\n",
       "+----------+"
      ]
     },
     "execution_count": 5,
     "metadata": {},
     "output_type": "execute_result"
    }
   ],
   "source": [
    "%%sql\n",
    "\n",
    "\n",
    "select count(1) from hms.data_db.new_york_taxi WHERE DOLocationID = 234 and PULocationID = 231;"
   ]
  },
  {
   "cell_type": "code",
   "execution_count": 7,
   "id": "d1ffe750-0138-4f70-9370-35d810704375",
   "metadata": {},
   "outputs": [
    {
     "data": {
      "text/html": [
       "<table>\n",
       "    <thead>\n",
       "        <tr>\n",
       "            <th>committed_at</th>\n",
       "            <th>snapshot_id</th>\n",
       "            <th>parent_id</th>\n",
       "            <th>operation</th>\n",
       "            <th>manifest_list</th>\n",
       "            <th>summary</th>\n",
       "        </tr>\n",
       "    </thead>\n",
       "    <tbody>\n",
       "        <tr>\n",
       "            <td>2025-03-10 05:36:06.148000</td>\n",
       "            <td>4990862803825292274</td>\n",
       "            <td>3733467730074381361</td>\n",
       "            <td>overwrite</td>\n",
       "            <td>s3a://lakehouse/warehouse/data_db/new_york_taxi/metadata/snap-4990862803825292274-1-ecc6807a-a9a4-4586-abb1-73d9dc7f0a5d.avro</td>\n",
       "            <td>{&#x27;spark.app.id&#x27;: &#x27;local-1741584850436&#x27;, &#x27;changed-partition-count&#x27;: &#x27;6&#x27;, &#x27;added-position-deletes&#x27;: &#x27;508&#x27;, &#x27;total-equality-deletes&#x27;: &#x27;0&#x27;, &#x27;total-position-deletes&#x27;: &#x27;508&#x27;, &#x27;added-position-delete-files&#x27;: &#x27;6&#x27;, &#x27;added-files-size&#x27;: &#x27;10942&#x27;, &#x27;total-delete-files&#x27;: &#x27;6&#x27;, &#x27;added-delete-files&#x27;: &#x27;6&#x27;, &#x27;total-files-size&#x27;: &#x27;5917742&#x27;, &#x27;total-records&#x27;: &#x27;1048584&#x27;, &#x27;total-data-files&#x27;: &#x27;18&#x27;}</td>\n",
       "        </tr>\n",
       "        <tr>\n",
       "            <td>2024-11-24 08:17:59.515000</td>\n",
       "            <td>3733467730074381361</td>\n",
       "            <td>6118885366905035378</td>\n",
       "            <td>delete</td>\n",
       "            <td>s3a://lakehouse/warehouse/data_db/new_york_taxi/metadata/snap-3733467730074381361-1-abbed668-2863-4c9b-9278-897cc1b5d5b3.avro</td>\n",
       "            <td>{&#x27;spark.app.id&#x27;: &#x27;local-1732436070168&#x27;, &#x27;removed-files-size&#x27;: &#x27;2206&#x27;, &#x27;changed-partition-count&#x27;: &#x27;1&#x27;, &#x27;total-equality-deletes&#x27;: &#x27;0&#x27;, &#x27;deleted-data-files&#x27;: &#x27;1&#x27;, &#x27;total-position-deletes&#x27;: &#x27;0&#x27;, &#x27;total-delete-files&#x27;: &#x27;0&#x27;, &#x27;deleted-records&#x27;: &#x27;1&#x27;, &#x27;total-files-size&#x27;: &#x27;5906800&#x27;, &#x27;total-records&#x27;: &#x27;1048584&#x27;, &#x27;total-data-files&#x27;: &#x27;18&#x27;}</td>\n",
       "        </tr>\n",
       "    </tbody>\n",
       "</table>"
      ],
      "text/plain": [
       "+----------------------------+---------------------+---------------------+-----------+-------------------------------------------------------------------------------------------------------------------------------+--------------------------------------------------------------------------------------------------------------------------------------------------------------------------------------------------------------------------------------------------------------------------------------------------------------------------------------------------------------------------------------+\n",
       "|               committed_at |         snapshot_id |           parent_id | operation |                                                                                                                 manifest_list |                                                                                                                                                                                                                                                                                                                                                                              summary |\n",
       "+----------------------------+---------------------+---------------------+-----------+-------------------------------------------------------------------------------------------------------------------------------+--------------------------------------------------------------------------------------------------------------------------------------------------------------------------------------------------------------------------------------------------------------------------------------------------------------------------------------------------------------------------------------+\n",
       "| 2025-03-10 05:36:06.148000 | 4990862803825292274 | 3733467730074381361 | overwrite | s3a://lakehouse/warehouse/data_db/new_york_taxi/metadata/snap-4990862803825292274-1-ecc6807a-a9a4-4586-abb1-73d9dc7f0a5d.avro | {'spark.app.id': 'local-1741584850436', 'changed-partition-count': '6', 'added-position-deletes': '508', 'total-equality-deletes': '0', 'total-position-deletes': '508', 'added-position-delete-files': '6', 'added-files-size': '10942', 'total-delete-files': '6', 'added-delete-files': '6', 'total-files-size': '5917742', 'total-records': '1048584', 'total-data-files': '18'} |\n",
       "| 2024-11-24 08:17:59.515000 | 3733467730074381361 | 6118885366905035378 |    delete | s3a://lakehouse/warehouse/data_db/new_york_taxi/metadata/snap-3733467730074381361-1-abbed668-2863-4c9b-9278-897cc1b5d5b3.avro |                                               {'spark.app.id': 'local-1732436070168', 'removed-files-size': '2206', 'changed-partition-count': '1', 'total-equality-deletes': '0', 'deleted-data-files': '1', 'total-position-deletes': '0', 'total-delete-files': '0', 'deleted-records': '1', 'total-files-size': '5906800', 'total-records': '1048584', 'total-data-files': '18'} |\n",
       "+----------------------------+---------------------+---------------------+-----------+-------------------------------------------------------------------------------------------------------------------------------+--------------------------------------------------------------------------------------------------------------------------------------------------------------------------------------------------------------------------------------------------------------------------------------------------------------------------------------------------------------------------------------+"
      ]
     },
     "execution_count": 7,
     "metadata": {},
     "output_type": "execute_result"
    }
   ],
   "source": [
    "%%sql\n",
    "\n",
    "select * from hms.data_db.new_york_taxi.snapshots order by committed_at desc limit 2; "
   ]
  },
  {
   "cell_type": "code",
   "execution_count": 14,
   "id": "4061e8b0-28d0-47a5-a58d-26f58236cced",
   "metadata": {},
   "outputs": [
    {
     "data": {
      "text/html": [
       "<table>\n",
       "    <thead>\n",
       "        <tr>\n",
       "            <th>content</th>\n",
       "            <th>file_path</th>\n",
       "            <th>file_format</th>\n",
       "            <th>spec_id</th>\n",
       "            <th>partition</th>\n",
       "            <th>record_count</th>\n",
       "            <th>file_size_in_bytes</th>\n",
       "            <th>column_sizes</th>\n",
       "            <th>value_counts</th>\n",
       "            <th>null_value_counts</th>\n",
       "            <th>nan_value_counts</th>\n",
       "            <th>lower_bounds</th>\n",
       "            <th>upper_bounds</th>\n",
       "            <th>key_metadata</th>\n",
       "            <th>split_offsets</th>\n",
       "            <th>equality_ids</th>\n",
       "            <th>sort_order_id</th>\n",
       "            <th>readable_metrics</th>\n",
       "        </tr>\n",
       "    </thead>\n",
       "    <tbody>\n",
       "        <tr>\n",
       "            <td>1</td>\n",
       "            <td>s3a://lakehouse/warehouse/data_db/new_york_taxi/data/tpep_pickup_datetime_day=2019-01-01/00000-5-a7e8951b-b721-49e5-9222-68a0e096fb3d-00001-deletes.parquet</td>\n",
       "            <td>PARQUET</td>\n",
       "            <td>0</td>\n",
       "            <td>Row(tpep_pickup_datetime_day=datetime.date(2019, 1, 1))</td>\n",
       "            <td>63</td>\n",
       "            <td>1860</td>\n",
       "            <td>{2147483546: 195, 2147483545: 189}</td>\n",
       "            <td>None</td>\n",
       "            <td>None</td>\n",
       "            <td>None</td>\n",
       "            <td>{2147483546: bytearray(b&#x27;s3a://lakehouse/warehouse/data_db/new_york_taxi/data/tpep_pickup_datetime_day=2019-01-01/00000-6-6d46122d-b309-45cb-b72c-8701bf47aa97-0-00009.parquet&#x27;), 2147483545: bytearray(b&#x27;\\xc95\\x02\\x00\\x00\\x00\\x00\\x00&#x27;)}</td>\n",
       "            <td>{2147483546: bytearray(b&#x27;s3a://lakehouse/warehouse/data_db/new_york_taxi/data/tpep_pickup_datetime_day=2019-01-01/00000-6-6d46122d-b309-45cb-b72c-8701bf47aa97-0-00009.parquet&#x27;), 2147483545: bytearray(b&#x27;\\x076\\x02\\x00\\x00\\x00\\x00\\x00&#x27;)}</td>\n",
       "            <td>None</td>\n",
       "            <td>[4]</td>\n",
       "            <td>None</td>\n",
       "            <td>None</td>\n",
       "            <td>Row(DOLocationID=Row(column_size=None, value_count=None, null_value_count=None, nan_value_count=None, lower_bound=None, upper_bound=None), PULocationID=Row(column_size=None, value_count=None, null_value_count=None, nan_value_count=None, lower_bound=None, upper_bound=None), fare_amount=Row(column_size=None, value_count=None, null_value_count=None, nan_value_count=None, lower_bound=None, upper_bound=None), passenger_count=Row(column_size=None, value_count=None, null_value_count=None, nan_value_count=None, lower_bound=None, upper_bound=None), tpep_dropoff_datetime=Row(column_size=None, value_count=None, null_value_count=None, nan_value_count=None, lower_bound=None, upper_bound=None), tpep_pickup_datetime=Row(column_size=None, value_count=None, null_value_count=None, nan_value_count=None, lower_bound=None, upper_bound=None), trip_distance=Row(column_size=None, value_count=None, null_value_count=None, nan_value_count=None, lower_bound=None, upper_bound=None))</td>\n",
       "        </tr>\n",
       "        <tr>\n",
       "            <td>1</td>\n",
       "            <td>s3a://lakehouse/warehouse/data_db/new_york_taxi/data/tpep_pickup_datetime_day=2018-12-30/00000-5-a7e8951b-b721-49e5-9222-68a0e096fb3d-00002-deletes.parquet</td>\n",
       "            <td>PARQUET</td>\n",
       "            <td>0</td>\n",
       "            <td>Row(tpep_pickup_datetime_day=datetime.date(2018, 12, 30))</td>\n",
       "            <td>1</td>\n",
       "            <td>1666</td>\n",
       "            <td>{2147483546: 164, 2147483545: 40}</td>\n",
       "            <td>None</td>\n",
       "            <td>None</td>\n",
       "            <td>None</td>\n",
       "            <td>{2147483546: bytearray(b&#x27;s3a://lakehouse/warehouse/data_db/new_york_taxi/data/tpep_pickup_datetime_day=2018-12-30/00000-6-6d46122d-b309-45cb-b72c-8701bf47aa97-0-00007.parquet&#x27;), 2147483545: bytearray(b&#x27;\\x07\\x00\\x00\\x00\\x00\\x00\\x00\\x00&#x27;)}</td>\n",
       "            <td>{2147483546: bytearray(b&#x27;s3a://lakehouse/warehouse/data_db/new_york_taxi/data/tpep_pickup_datetime_day=2018-12-30/00000-6-6d46122d-b309-45cb-b72c-8701bf47aa97-0-00007.parquet&#x27;), 2147483545: bytearray(b&#x27;\\x07\\x00\\x00\\x00\\x00\\x00\\x00\\x00&#x27;)}</td>\n",
       "            <td>None</td>\n",
       "            <td>[4]</td>\n",
       "            <td>None</td>\n",
       "            <td>None</td>\n",
       "            <td>Row(DOLocationID=Row(column_size=None, value_count=None, null_value_count=None, nan_value_count=None, lower_bound=None, upper_bound=None), PULocationID=Row(column_size=None, value_count=None, null_value_count=None, nan_value_count=None, lower_bound=None, upper_bound=None), fare_amount=Row(column_size=None, value_count=None, null_value_count=None, nan_value_count=None, lower_bound=None, upper_bound=None), passenger_count=Row(column_size=None, value_count=None, null_value_count=None, nan_value_count=None, lower_bound=None, upper_bound=None), tpep_dropoff_datetime=Row(column_size=None, value_count=None, null_value_count=None, nan_value_count=None, lower_bound=None, upper_bound=None), tpep_pickup_datetime=Row(column_size=None, value_count=None, null_value_count=None, nan_value_count=None, lower_bound=None, upper_bound=None), trip_distance=Row(column_size=None, value_count=None, null_value_count=None, nan_value_count=None, lower_bound=None, upper_bound=None))</td>\n",
       "        </tr>\n",
       "        <tr>\n",
       "            <td>1</td>\n",
       "            <td>s3a://lakehouse/warehouse/data_db/new_york_taxi/data/tpep_pickup_datetime_day=2019-01-04/00000-5-a7e8951b-b721-49e5-9222-68a0e096fb3d-00003-deletes.parquet</td>\n",
       "            <td>PARQUET</td>\n",
       "            <td>0</td>\n",
       "            <td>Row(tpep_pickup_datetime_day=datetime.date(2019, 1, 4))</td>\n",
       "            <td>124</td>\n",
       "            <td>1866</td>\n",
       "            <td>{2147483546: 197, 2147483545: 189}</td>\n",
       "            <td>None</td>\n",
       "            <td>None</td>\n",
       "            <td>None</td>\n",
       "            <td>{2147483546: bytearray(b&#x27;s3a://lakehouse/warehouse/data_db/new_york_taxi/data/tpep_pickup_datetime_day=2019-01-04/00001-7-6d46122d-b309-45cb-b72c-8701bf47aa97-0-00002.parquet&#x27;), 2147483545: bytearray(b&#x27;I\\x9e\\x02\\x00\\x00\\x00\\x00\\x00&#x27;)}</td>\n",
       "            <td>{2147483546: bytearray(b&#x27;s3a://lakehouse/warehouse/data_db/new_york_taxi/data/tpep_pickup_datetime_day=2019-01-04/00001-7-6d46122d-b309-45cb-b72c-8701bf47aa97-0-00002.parquet&#x27;), 2147483545: bytearray(b&#x27;\\xc4\\x9e\\x02\\x00\\x00\\x00\\x00\\x00&#x27;)}</td>\n",
       "            <td>None</td>\n",
       "            <td>[4]</td>\n",
       "            <td>None</td>\n",
       "            <td>None</td>\n",
       "            <td>Row(DOLocationID=Row(column_size=None, value_count=None, null_value_count=None, nan_value_count=None, lower_bound=None, upper_bound=None), PULocationID=Row(column_size=None, value_count=None, null_value_count=None, nan_value_count=None, lower_bound=None, upper_bound=None), fare_amount=Row(column_size=None, value_count=None, null_value_count=None, nan_value_count=None, lower_bound=None, upper_bound=None), passenger_count=Row(column_size=None, value_count=None, null_value_count=None, nan_value_count=None, lower_bound=None, upper_bound=None), tpep_dropoff_datetime=Row(column_size=None, value_count=None, null_value_count=None, nan_value_count=None, lower_bound=None, upper_bound=None), tpep_pickup_datetime=Row(column_size=None, value_count=None, null_value_count=None, nan_value_count=None, lower_bound=None, upper_bound=None), trip_distance=Row(column_size=None, value_count=None, null_value_count=None, nan_value_count=None, lower_bound=None, upper_bound=None))</td>\n",
       "        </tr>\n",
       "        <tr>\n",
       "            <td>1</td>\n",
       "            <td>s3a://lakehouse/warehouse/data_db/new_york_taxi/data/tpep_pickup_datetime_day=2019-01-05/00000-5-a7e8951b-b721-49e5-9222-68a0e096fb3d-00004-deletes.parquet</td>\n",
       "            <td>PARQUET</td>\n",
       "            <td>0</td>\n",
       "            <td>Row(tpep_pickup_datetime_day=datetime.date(2019, 1, 5))</td>\n",
       "            <td>90</td>\n",
       "            <td>1830</td>\n",
       "            <td>{2147483546: 196, 2147483545: 154}</td>\n",
       "            <td>None</td>\n",
       "            <td>None</td>\n",
       "            <td>None</td>\n",
       "            <td>{2147483546: bytearray(b&#x27;s3a://lakehouse/warehouse/data_db/new_york_taxi/data/tpep_pickup_datetime_day=2019-01-05/00001-7-6d46122d-b309-45cb-b72c-8701bf47aa97-0-00003.parquet&#x27;), 2147483545: bytearray(b&#x27;6A\\x02\\x00\\x00\\x00\\x00\\x00&#x27;)}</td>\n",
       "            <td>{2147483546: bytearray(b&#x27;s3a://lakehouse/warehouse/data_db/new_york_taxi/data/tpep_pickup_datetime_day=2019-01-05/00001-7-6d46122d-b309-45cb-b72c-8701bf47aa97-0-00003.parquet&#x27;), 2147483545: bytearray(b&#x27;\\x8fA\\x02\\x00\\x00\\x00\\x00\\x00&#x27;)}</td>\n",
       "            <td>None</td>\n",
       "            <td>[4]</td>\n",
       "            <td>None</td>\n",
       "            <td>None</td>\n",
       "            <td>Row(DOLocationID=Row(column_size=None, value_count=None, null_value_count=None, nan_value_count=None, lower_bound=None, upper_bound=None), PULocationID=Row(column_size=None, value_count=None, null_value_count=None, nan_value_count=None, lower_bound=None, upper_bound=None), fare_amount=Row(column_size=None, value_count=None, null_value_count=None, nan_value_count=None, lower_bound=None, upper_bound=None), passenger_count=Row(column_size=None, value_count=None, null_value_count=None, nan_value_count=None, lower_bound=None, upper_bound=None), tpep_dropoff_datetime=Row(column_size=None, value_count=None, null_value_count=None, nan_value_count=None, lower_bound=None, upper_bound=None), tpep_pickup_datetime=Row(column_size=None, value_count=None, null_value_count=None, nan_value_count=None, lower_bound=None, upper_bound=None), trip_distance=Row(column_size=None, value_count=None, null_value_count=None, nan_value_count=None, lower_bound=None, upper_bound=None))</td>\n",
       "        </tr>\n",
       "        <tr>\n",
       "            <td>1</td>\n",
       "            <td>s3a://lakehouse/warehouse/data_db/new_york_taxi/data/tpep_pickup_datetime_day=2019-01-02/00000-5-a7e8951b-b721-49e5-9222-68a0e096fb3d-00005-deletes.parquet</td>\n",
       "            <td>PARQUET</td>\n",
       "            <td>0</td>\n",
       "            <td>Row(tpep_pickup_datetime_day=datetime.date(2019, 1, 2))</td>\n",
       "            <td>103</td>\n",
       "            <td>1849</td>\n",
       "            <td>{2147483546: 197, 2147483545: 172}</td>\n",
       "            <td>None</td>\n",
       "            <td>None</td>\n",
       "            <td>None</td>\n",
       "            <td>{2147483546: bytearray(b&#x27;s3a://lakehouse/warehouse/data_db/new_york_taxi/data/tpep_pickup_datetime_day=2019-01-02/00000-6-6d46122d-b309-45cb-b72c-8701bf47aa97-0-00010.parquet&#x27;), 2147483545: bytearray(b&#x27;\\xc6&gt;\\x02\\x00\\x00\\x00\\x00\\x00&#x27;)}</td>\n",
       "            <td>{2147483546: bytearray(b&#x27;s3a://lakehouse/warehouse/data_db/new_york_taxi/data/tpep_pickup_datetime_day=2019-01-02/00000-6-6d46122d-b309-45cb-b72c-8701bf47aa97-0-00010.parquet&#x27;), 2147483545: bytearray(b&#x27;,?\\x02\\x00\\x00\\x00\\x00\\x00&#x27;)}</td>\n",
       "            <td>None</td>\n",
       "            <td>[4]</td>\n",
       "            <td>None</td>\n",
       "            <td>None</td>\n",
       "            <td>Row(DOLocationID=Row(column_size=None, value_count=None, null_value_count=None, nan_value_count=None, lower_bound=None, upper_bound=None), PULocationID=Row(column_size=None, value_count=None, null_value_count=None, nan_value_count=None, lower_bound=None, upper_bound=None), fare_amount=Row(column_size=None, value_count=None, null_value_count=None, nan_value_count=None, lower_bound=None, upper_bound=None), passenger_count=Row(column_size=None, value_count=None, null_value_count=None, nan_value_count=None, lower_bound=None, upper_bound=None), tpep_dropoff_datetime=Row(column_size=None, value_count=None, null_value_count=None, nan_value_count=None, lower_bound=None, upper_bound=None), tpep_pickup_datetime=Row(column_size=None, value_count=None, null_value_count=None, nan_value_count=None, lower_bound=None, upper_bound=None), trip_distance=Row(column_size=None, value_count=None, null_value_count=None, nan_value_count=None, lower_bound=None, upper_bound=None))</td>\n",
       "        </tr>\n",
       "        <tr>\n",
       "            <td>1</td>\n",
       "            <td>s3a://lakehouse/warehouse/data_db/new_york_taxi/data/tpep_pickup_datetime_day=2019-01-03/00000-5-a7e8951b-b721-49e5-9222-68a0e096fb3d-00006-deletes.parquet</td>\n",
       "            <td>PARQUET</td>\n",
       "            <td>0</td>\n",
       "            <td>Row(tpep_pickup_datetime_day=datetime.date(2019, 1, 3))</td>\n",
       "            <td>127</td>\n",
       "            <td>1871</td>\n",
       "            <td>{2147483546: 196, 2147483545: 195}</td>\n",
       "            <td>None</td>\n",
       "            <td>None</td>\n",
       "            <td>None</td>\n",
       "            <td>{2147483546: bytearray(b&#x27;s3a://lakehouse/warehouse/data_db/new_york_taxi/data/tpep_pickup_datetime_day=2019-01-03/00001-7-6d46122d-b309-45cb-b72c-8701bf47aa97-0-00001.parquet&#x27;), 2147483545: bytearray(b&#x27;\\xbd\\x80\\x00\\x00\\x00\\x00\\x00\\x00&#x27;)}</td>\n",
       "            <td>{2147483546: bytearray(b&#x27;s3a://lakehouse/warehouse/data_db/new_york_taxi/data/tpep_pickup_datetime_day=2019-01-03/00001-7-6d46122d-b309-45cb-b72c-8701bf47aa97-0-00001.parquet&#x27;), 2147483545: bytearray(b&#x27;;\\x81\\x00\\x00\\x00\\x00\\x00\\x00&#x27;)}</td>\n",
       "            <td>None</td>\n",
       "            <td>[4]</td>\n",
       "            <td>None</td>\n",
       "            <td>None</td>\n",
       "            <td>Row(DOLocationID=Row(column_size=None, value_count=None, null_value_count=None, nan_value_count=None, lower_bound=None, upper_bound=None), PULocationID=Row(column_size=None, value_count=None, null_value_count=None, nan_value_count=None, lower_bound=None, upper_bound=None), fare_amount=Row(column_size=None, value_count=None, null_value_count=None, nan_value_count=None, lower_bound=None, upper_bound=None), passenger_count=Row(column_size=None, value_count=None, null_value_count=None, nan_value_count=None, lower_bound=None, upper_bound=None), tpep_dropoff_datetime=Row(column_size=None, value_count=None, null_value_count=None, nan_value_count=None, lower_bound=None, upper_bound=None), tpep_pickup_datetime=Row(column_size=None, value_count=None, null_value_count=None, nan_value_count=None, lower_bound=None, upper_bound=None), trip_distance=Row(column_size=None, value_count=None, null_value_count=None, nan_value_count=None, lower_bound=None, upper_bound=None))</td>\n",
       "        </tr>\n",
       "    </tbody>\n",
       "</table>"
      ],
      "text/plain": [
       "+---------+-------------------------------------------------------------------------------------------------------------------------------------------------------------+-------------+---------+-----------------------------------------------------------+--------------+--------------------+------------------------------------+--------------+-------------------+------------------+-----------------------------------------------------------------------------------------------------------------------------------------------------------------------------------------------------------------------------------------------+-----------------------------------------------------------------------------------------------------------------------------------------------------------------------------------------------------------------------------------------------+--------------+---------------+--------------+---------------+----------------------------------------------------------------------------------------------------------------------------------------------------------------------------------------------------------------------------------------------------------------------------------------------------------------------------------------------------------------------------------------------------------------------------------------------------------------------------------------------------------------------------------------------------------------------------------------------------------------------------------------------------------------------------------------------------------------------------------------------------------------------------------------------------------------------------------------------------------------------------------------------------------------------------------------------------------------------------------------------------------+\n",
       "| content |                                                                                                                                                   file_path | file_format | spec_id |                                                 partition | record_count | file_size_in_bytes |                       column_sizes | value_counts | null_value_counts | nan_value_counts |                                                                                                                                                                                                                                  lower_bounds |                                                                                                                                                                                                                                  upper_bounds | key_metadata | split_offsets | equality_ids | sort_order_id |                                                                                                                                                                                                                                                                                                                                                                                                                                                                                                                                                                                                                                                                                                                                                                                                                                                                                                                                                                                         readable_metrics |\n",
       "+---------+-------------------------------------------------------------------------------------------------------------------------------------------------------------+-------------+---------+-----------------------------------------------------------+--------------+--------------------+------------------------------------+--------------+-------------------+------------------+-----------------------------------------------------------------------------------------------------------------------------------------------------------------------------------------------------------------------------------------------+-----------------------------------------------------------------------------------------------------------------------------------------------------------------------------------------------------------------------------------------------+--------------+---------------+--------------+---------------+----------------------------------------------------------------------------------------------------------------------------------------------------------------------------------------------------------------------------------------------------------------------------------------------------------------------------------------------------------------------------------------------------------------------------------------------------------------------------------------------------------------------------------------------------------------------------------------------------------------------------------------------------------------------------------------------------------------------------------------------------------------------------------------------------------------------------------------------------------------------------------------------------------------------------------------------------------------------------------------------------------+\n",
       "|       1 | s3a://lakehouse/warehouse/data_db/new_york_taxi/data/tpep_pickup_datetime_day=2019-01-01/00000-5-a7e8951b-b721-49e5-9222-68a0e096fb3d-00001-deletes.parquet |     PARQUET |       0 |   Row(tpep_pickup_datetime_day=datetime.date(2019, 1, 1)) |           63 |               1860 | {2147483546: 195, 2147483545: 189} |         None |              None |             None |    {2147483546: bytearray(b's3a://lakehouse/warehouse/data_db/new_york_taxi/data/tpep_pickup_datetime_day=2019-01-01/00000-6-6d46122d-b309-45cb-b72c-8701bf47aa97-0-00009.parquet'), 2147483545: bytearray(b'\\xc95\\x02\\x00\\x00\\x00\\x00\\x00')} |    {2147483546: bytearray(b's3a://lakehouse/warehouse/data_db/new_york_taxi/data/tpep_pickup_datetime_day=2019-01-01/00000-6-6d46122d-b309-45cb-b72c-8701bf47aa97-0-00009.parquet'), 2147483545: bytearray(b'\\x076\\x02\\x00\\x00\\x00\\x00\\x00')} |         None |           [4] |         None |          None | Row(DOLocationID=Row(column_size=None, value_count=None, null_value_count=None, nan_value_count=None, lower_bound=None, upper_bound=None), PULocationID=Row(column_size=None, value_count=None, null_value_count=None, nan_value_count=None, lower_bound=None, upper_bound=None), fare_amount=Row(column_size=None, value_count=None, null_value_count=None, nan_value_count=None, lower_bound=None, upper_bound=None), passenger_count=Row(column_size=None, value_count=None, null_value_count=None, nan_value_count=None, lower_bound=None, upper_bound=None), tpep_dropoff_datetime=Row(column_size=None, value_count=None, null_value_count=None, nan_value_count=None, lower_bound=None, upper_bound=None), tpep_pickup_datetime=Row(column_size=None, value_count=None, null_value_count=None, nan_value_count=None, lower_bound=None, upper_bound=None), trip_distance=Row(column_size=None, value_count=None, null_value_count=None, nan_value_count=None, lower_bound=None, upper_bound=None)) |\n",
       "|       1 | s3a://lakehouse/warehouse/data_db/new_york_taxi/data/tpep_pickup_datetime_day=2018-12-30/00000-5-a7e8951b-b721-49e5-9222-68a0e096fb3d-00002-deletes.parquet |     PARQUET |       0 | Row(tpep_pickup_datetime_day=datetime.date(2018, 12, 30)) |            1 |               1666 |  {2147483546: 164, 2147483545: 40} |         None |              None |             None | {2147483546: bytearray(b's3a://lakehouse/warehouse/data_db/new_york_taxi/data/tpep_pickup_datetime_day=2018-12-30/00000-6-6d46122d-b309-45cb-b72c-8701bf47aa97-0-00007.parquet'), 2147483545: bytearray(b'\\x07\\x00\\x00\\x00\\x00\\x00\\x00\\x00')} | {2147483546: bytearray(b's3a://lakehouse/warehouse/data_db/new_york_taxi/data/tpep_pickup_datetime_day=2018-12-30/00000-6-6d46122d-b309-45cb-b72c-8701bf47aa97-0-00007.parquet'), 2147483545: bytearray(b'\\x07\\x00\\x00\\x00\\x00\\x00\\x00\\x00')} |         None |           [4] |         None |          None | Row(DOLocationID=Row(column_size=None, value_count=None, null_value_count=None, nan_value_count=None, lower_bound=None, upper_bound=None), PULocationID=Row(column_size=None, value_count=None, null_value_count=None, nan_value_count=None, lower_bound=None, upper_bound=None), fare_amount=Row(column_size=None, value_count=None, null_value_count=None, nan_value_count=None, lower_bound=None, upper_bound=None), passenger_count=Row(column_size=None, value_count=None, null_value_count=None, nan_value_count=None, lower_bound=None, upper_bound=None), tpep_dropoff_datetime=Row(column_size=None, value_count=None, null_value_count=None, nan_value_count=None, lower_bound=None, upper_bound=None), tpep_pickup_datetime=Row(column_size=None, value_count=None, null_value_count=None, nan_value_count=None, lower_bound=None, upper_bound=None), trip_distance=Row(column_size=None, value_count=None, null_value_count=None, nan_value_count=None, lower_bound=None, upper_bound=None)) |\n",
       "|       1 | s3a://lakehouse/warehouse/data_db/new_york_taxi/data/tpep_pickup_datetime_day=2019-01-04/00000-5-a7e8951b-b721-49e5-9222-68a0e096fb3d-00003-deletes.parquet |     PARQUET |       0 |   Row(tpep_pickup_datetime_day=datetime.date(2019, 1, 4)) |          124 |               1866 | {2147483546: 197, 2147483545: 189} |         None |              None |             None |    {2147483546: bytearray(b's3a://lakehouse/warehouse/data_db/new_york_taxi/data/tpep_pickup_datetime_day=2019-01-04/00001-7-6d46122d-b309-45cb-b72c-8701bf47aa97-0-00002.parquet'), 2147483545: bytearray(b'I\\x9e\\x02\\x00\\x00\\x00\\x00\\x00')} | {2147483546: bytearray(b's3a://lakehouse/warehouse/data_db/new_york_taxi/data/tpep_pickup_datetime_day=2019-01-04/00001-7-6d46122d-b309-45cb-b72c-8701bf47aa97-0-00002.parquet'), 2147483545: bytearray(b'\\xc4\\x9e\\x02\\x00\\x00\\x00\\x00\\x00')} |         None |           [4] |         None |          None | Row(DOLocationID=Row(column_size=None, value_count=None, null_value_count=None, nan_value_count=None, lower_bound=None, upper_bound=None), PULocationID=Row(column_size=None, value_count=None, null_value_count=None, nan_value_count=None, lower_bound=None, upper_bound=None), fare_amount=Row(column_size=None, value_count=None, null_value_count=None, nan_value_count=None, lower_bound=None, upper_bound=None), passenger_count=Row(column_size=None, value_count=None, null_value_count=None, nan_value_count=None, lower_bound=None, upper_bound=None), tpep_dropoff_datetime=Row(column_size=None, value_count=None, null_value_count=None, nan_value_count=None, lower_bound=None, upper_bound=None), tpep_pickup_datetime=Row(column_size=None, value_count=None, null_value_count=None, nan_value_count=None, lower_bound=None, upper_bound=None), trip_distance=Row(column_size=None, value_count=None, null_value_count=None, nan_value_count=None, lower_bound=None, upper_bound=None)) |\n",
       "|       1 | s3a://lakehouse/warehouse/data_db/new_york_taxi/data/tpep_pickup_datetime_day=2019-01-05/00000-5-a7e8951b-b721-49e5-9222-68a0e096fb3d-00004-deletes.parquet |     PARQUET |       0 |   Row(tpep_pickup_datetime_day=datetime.date(2019, 1, 5)) |           90 |               1830 | {2147483546: 196, 2147483545: 154} |         None |              None |             None |       {2147483546: bytearray(b's3a://lakehouse/warehouse/data_db/new_york_taxi/data/tpep_pickup_datetime_day=2019-01-05/00001-7-6d46122d-b309-45cb-b72c-8701bf47aa97-0-00003.parquet'), 2147483545: bytearray(b'6A\\x02\\x00\\x00\\x00\\x00\\x00')} |    {2147483546: bytearray(b's3a://lakehouse/warehouse/data_db/new_york_taxi/data/tpep_pickup_datetime_day=2019-01-05/00001-7-6d46122d-b309-45cb-b72c-8701bf47aa97-0-00003.parquet'), 2147483545: bytearray(b'\\x8fA\\x02\\x00\\x00\\x00\\x00\\x00')} |         None |           [4] |         None |          None | Row(DOLocationID=Row(column_size=None, value_count=None, null_value_count=None, nan_value_count=None, lower_bound=None, upper_bound=None), PULocationID=Row(column_size=None, value_count=None, null_value_count=None, nan_value_count=None, lower_bound=None, upper_bound=None), fare_amount=Row(column_size=None, value_count=None, null_value_count=None, nan_value_count=None, lower_bound=None, upper_bound=None), passenger_count=Row(column_size=None, value_count=None, null_value_count=None, nan_value_count=None, lower_bound=None, upper_bound=None), tpep_dropoff_datetime=Row(column_size=None, value_count=None, null_value_count=None, nan_value_count=None, lower_bound=None, upper_bound=None), tpep_pickup_datetime=Row(column_size=None, value_count=None, null_value_count=None, nan_value_count=None, lower_bound=None, upper_bound=None), trip_distance=Row(column_size=None, value_count=None, null_value_count=None, nan_value_count=None, lower_bound=None, upper_bound=None)) |\n",
       "|       1 | s3a://lakehouse/warehouse/data_db/new_york_taxi/data/tpep_pickup_datetime_day=2019-01-02/00000-5-a7e8951b-b721-49e5-9222-68a0e096fb3d-00005-deletes.parquet |     PARQUET |       0 |   Row(tpep_pickup_datetime_day=datetime.date(2019, 1, 2)) |          103 |               1849 | {2147483546: 197, 2147483545: 172} |         None |              None |             None |    {2147483546: bytearray(b's3a://lakehouse/warehouse/data_db/new_york_taxi/data/tpep_pickup_datetime_day=2019-01-02/00000-6-6d46122d-b309-45cb-b72c-8701bf47aa97-0-00010.parquet'), 2147483545: bytearray(b'\\xc6>\\x02\\x00\\x00\\x00\\x00\\x00')} |       {2147483546: bytearray(b's3a://lakehouse/warehouse/data_db/new_york_taxi/data/tpep_pickup_datetime_day=2019-01-02/00000-6-6d46122d-b309-45cb-b72c-8701bf47aa97-0-00010.parquet'), 2147483545: bytearray(b',?\\x02\\x00\\x00\\x00\\x00\\x00')} |         None |           [4] |         None |          None | Row(DOLocationID=Row(column_size=None, value_count=None, null_value_count=None, nan_value_count=None, lower_bound=None, upper_bound=None), PULocationID=Row(column_size=None, value_count=None, null_value_count=None, nan_value_count=None, lower_bound=None, upper_bound=None), fare_amount=Row(column_size=None, value_count=None, null_value_count=None, nan_value_count=None, lower_bound=None, upper_bound=None), passenger_count=Row(column_size=None, value_count=None, null_value_count=None, nan_value_count=None, lower_bound=None, upper_bound=None), tpep_dropoff_datetime=Row(column_size=None, value_count=None, null_value_count=None, nan_value_count=None, lower_bound=None, upper_bound=None), tpep_pickup_datetime=Row(column_size=None, value_count=None, null_value_count=None, nan_value_count=None, lower_bound=None, upper_bound=None), trip_distance=Row(column_size=None, value_count=None, null_value_count=None, nan_value_count=None, lower_bound=None, upper_bound=None)) |\n",
       "|       1 | s3a://lakehouse/warehouse/data_db/new_york_taxi/data/tpep_pickup_datetime_day=2019-01-03/00000-5-a7e8951b-b721-49e5-9222-68a0e096fb3d-00006-deletes.parquet |     PARQUET |       0 |   Row(tpep_pickup_datetime_day=datetime.date(2019, 1, 3)) |          127 |               1871 | {2147483546: 196, 2147483545: 195} |         None |              None |             None | {2147483546: bytearray(b's3a://lakehouse/warehouse/data_db/new_york_taxi/data/tpep_pickup_datetime_day=2019-01-03/00001-7-6d46122d-b309-45cb-b72c-8701bf47aa97-0-00001.parquet'), 2147483545: bytearray(b'\\xbd\\x80\\x00\\x00\\x00\\x00\\x00\\x00')} |    {2147483546: bytearray(b's3a://lakehouse/warehouse/data_db/new_york_taxi/data/tpep_pickup_datetime_day=2019-01-03/00001-7-6d46122d-b309-45cb-b72c-8701bf47aa97-0-00001.parquet'), 2147483545: bytearray(b';\\x81\\x00\\x00\\x00\\x00\\x00\\x00')} |         None |           [4] |         None |          None | Row(DOLocationID=Row(column_size=None, value_count=None, null_value_count=None, nan_value_count=None, lower_bound=None, upper_bound=None), PULocationID=Row(column_size=None, value_count=None, null_value_count=None, nan_value_count=None, lower_bound=None, upper_bound=None), fare_amount=Row(column_size=None, value_count=None, null_value_count=None, nan_value_count=None, lower_bound=None, upper_bound=None), passenger_count=Row(column_size=None, value_count=None, null_value_count=None, nan_value_count=None, lower_bound=None, upper_bound=None), tpep_dropoff_datetime=Row(column_size=None, value_count=None, null_value_count=None, nan_value_count=None, lower_bound=None, upper_bound=None), tpep_pickup_datetime=Row(column_size=None, value_count=None, null_value_count=None, nan_value_count=None, lower_bound=None, upper_bound=None), trip_distance=Row(column_size=None, value_count=None, null_value_count=None, nan_value_count=None, lower_bound=None, upper_bound=None)) |\n",
       "+---------+-------------------------------------------------------------------------------------------------------------------------------------------------------------+-------------+---------+-----------------------------------------------------------+--------------+--------------------+------------------------------------+--------------+-------------------+------------------+-----------------------------------------------------------------------------------------------------------------------------------------------------------------------------------------------------------------------------------------------+-----------------------------------------------------------------------------------------------------------------------------------------------------------------------------------------------------------------------------------------------+--------------+---------------+--------------+---------------+----------------------------------------------------------------------------------------------------------------------------------------------------------------------------------------------------------------------------------------------------------------------------------------------------------------------------------------------------------------------------------------------------------------------------------------------------------------------------------------------------------------------------------------------------------------------------------------------------------------------------------------------------------------------------------------------------------------------------------------------------------------------------------------------------------------------------------------------------------------------------------------------------------------------------------------------------------------------------------------------------------+"
      ]
     },
     "execution_count": 14,
     "metadata": {},
     "output_type": "execute_result"
    }
   ],
   "source": [
    "%%sql\n",
    "\n",
    "select * from hms.data_db.new_york_taxi.files where content <> 0 limit 10; "
   ]
  },
  {
   "cell_type": "code",
   "execution_count": 15,
   "id": "4225a6f4-f32f-4b9c-87b4-2f6ac3a33451",
   "metadata": {},
   "outputs": [
    {
     "data": {
      "text/html": [
       "<table>\n",
       "    <thead>\n",
       "        <tr>\n",
       "            <th>made_current_at</th>\n",
       "            <th>snapshot_id</th>\n",
       "            <th>parent_id</th>\n",
       "            <th>is_current_ancestor</th>\n",
       "        </tr>\n",
       "    </thead>\n",
       "    <tbody>\n",
       "        <tr>\n",
       "            <td>2024-11-20 12:16:20.695000</td>\n",
       "            <td>7915680060403489000</td>\n",
       "            <td>None</td>\n",
       "            <td>True</td>\n",
       "        </tr>\n",
       "        <tr>\n",
       "            <td>2024-11-22 05:11:42.701000</td>\n",
       "            <td>6118885366905035378</td>\n",
       "            <td>7915680060403489000</td>\n",
       "            <td>True</td>\n",
       "        </tr>\n",
       "        <tr>\n",
       "            <td>2024-11-24 08:17:59.515000</td>\n",
       "            <td>3733467730074381361</td>\n",
       "            <td>6118885366905035378</td>\n",
       "            <td>True</td>\n",
       "        </tr>\n",
       "        <tr>\n",
       "            <td>2025-03-10 05:36:06.148000</td>\n",
       "            <td>4990862803825292274</td>\n",
       "            <td>3733467730074381361</td>\n",
       "            <td>True</td>\n",
       "        </tr>\n",
       "    </tbody>\n",
       "</table>"
      ],
      "text/plain": [
       "+----------------------------+---------------------+---------------------+---------------------+\n",
       "|            made_current_at |         snapshot_id |           parent_id | is_current_ancestor |\n",
       "+----------------------------+---------------------+---------------------+---------------------+\n",
       "| 2024-11-20 12:16:20.695000 | 7915680060403489000 |                None |                True |\n",
       "| 2024-11-22 05:11:42.701000 | 6118885366905035378 | 7915680060403489000 |                True |\n",
       "| 2024-11-24 08:17:59.515000 | 3733467730074381361 | 6118885366905035378 |                True |\n",
       "| 2025-03-10 05:36:06.148000 | 4990862803825292274 | 3733467730074381361 |                True |\n",
       "+----------------------------+---------------------+---------------------+---------------------+"
      ]
     },
     "execution_count": 15,
     "metadata": {},
     "output_type": "execute_result"
    }
   ],
   "source": [
    "%%sql\n",
    "\n",
    "select * from hms.data_db.new_york_taxi.history; "
   ]
  }
 ],
 "metadata": {
  "kernelspec": {
   "display_name": "Python 3 (ipykernel)",
   "language": "python",
   "name": "python3"
  },
  "language_info": {
   "codemirror_mode": {
    "name": "ipython",
    "version": 3
   },
   "file_extension": ".py",
   "mimetype": "text/x-python",
   "name": "python",
   "nbconvert_exporter": "python",
   "pygments_lexer": "ipython3",
   "version": "3.9.18"
  }
 },
 "nbformat": 4,
 "nbformat_minor": 5
}
